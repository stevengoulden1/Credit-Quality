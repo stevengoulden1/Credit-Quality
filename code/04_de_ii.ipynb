{
 "cells": [
  {
   "cell_type": "code",
   "execution_count": 1,
   "id": "0a98660a",
   "metadata": {},
   "outputs": [],
   "source": [
    "import numpy as np\n",
    "import pandas as pd\n",
    "import matplotlib.pyplot as plt\n",
    "%matplotlib inline"
   ]
  },
  {
   "cell_type": "code",
   "execution_count": 2,
   "id": "bc271bcf",
   "metadata": {},
   "outputs": [],
   "source": [
    "target = -1"
   ]
  },
  {
   "cell_type": "code",
   "execution_count": 10,
   "id": "eaca405d",
   "metadata": {},
   "outputs": [],
   "source": [
    "def sing_col_analysis(target, col_anal=12): #Crude in retrospect, but eh\n",
    "    #target += 1\n",
    "    name = df.columns[target]\n",
    "    print(f\"{name} is a {df.dtypes[target]} that has {len(df[name].unique())} unique and {df[name].isnull().sum()} null values.\")\n",
    "    #insert line about outliers? Well, could potentially add to the table if relevant.... hmm guess we'll see\n",
    "    print(df[name].describe())\n",
    "    curr_col_analysis = df[name].value_counts().reset_index()\n",
    "    curr_col_analysis['proportion'] = round(df[name].value_counts(normalize=True).reset_index()['proportion'], 3)\n",
    "    print(curr_col_analysis[:min(col_anal, curr_col_analysis.shape[0])])"
   ]
  },
  {
   "cell_type": "code",
   "execution_count": 4,
   "id": "f325ed98",
   "metadata": {},
   "outputs": [
    {
     "name": "stdout",
     "output_type": "stream",
     "text": [
      "(45, 2)\n"
     ]
    },
    {
     "data": {
      "text/html": [
       "<div>\n",
       "<style scoped>\n",
       "    .dataframe tbody tr th:only-of-type {\n",
       "        vertical-align: middle;\n",
       "    }\n",
       "\n",
       "    .dataframe tbody tr th {\n",
       "        vertical-align: top;\n",
       "    }\n",
       "\n",
       "    .dataframe thead th {\n",
       "        text-align: right;\n",
       "    }\n",
       "</style>\n",
       "<table border=\"1\" class=\"dataframe\">\n",
       "  <thead>\n",
       "    <tr style=\"text-align: right;\">\n",
       "      <th></th>\n",
       "      <th>DATE</th>\n",
       "      <th>RCCCBBALDPD30P</th>\n",
       "    </tr>\n",
       "  </thead>\n",
       "  <tbody>\n",
       "    <tr>\n",
       "      <th>0</th>\n",
       "      <td>2012-07-01</td>\n",
       "      <td>3.15</td>\n",
       "    </tr>\n",
       "    <tr>\n",
       "      <th>1</th>\n",
       "      <td>2012-10-01</td>\n",
       "      <td>3.09</td>\n",
       "    </tr>\n",
       "    <tr>\n",
       "      <th>2</th>\n",
       "      <td>2013-01-01</td>\n",
       "      <td>2.95</td>\n",
       "    </tr>\n",
       "    <tr>\n",
       "      <th>3</th>\n",
       "      <td>2013-04-01</td>\n",
       "      <td>2.94</td>\n",
       "    </tr>\n",
       "    <tr>\n",
       "      <th>4</th>\n",
       "      <td>2013-07-01</td>\n",
       "      <td>2.48</td>\n",
       "    </tr>\n",
       "  </tbody>\n",
       "</table>\n",
       "</div>"
      ],
      "text/plain": [
       "         DATE  RCCCBBALDPD30P\n",
       "0  2012-07-01            3.15\n",
       "1  2012-10-01            3.09\n",
       "2  2013-01-01            2.95\n",
       "3  2013-04-01            2.94\n",
       "4  2013-07-01            2.48"
      ]
     },
     "execution_count": 4,
     "metadata": {},
     "output_type": "execute_result"
    }
   ],
   "source": [
    "df = pd.read_csv('../../data/non_final/FRED_CC_BALS_30D_DUE.csv')\n",
    "print(df.shape)\n",
    "df.head()"
   ]
  },
  {
   "cell_type": "code",
   "execution_count": 5,
   "id": "f94b72bd",
   "metadata": {},
   "outputs": [
    {
     "name": "stdout",
     "output_type": "stream",
     "text": [
      "DATE is a object that has 45 unique and 0 null values.\n",
      "count             45\n",
      "unique            45\n",
      "top       2012-07-01\n",
      "freq               1\n",
      "Name: DATE, dtype: object\n",
      "          DATE  count  proportion\n",
      "0   2012-07-01      1       0.022\n",
      "1   2018-04-01      1       0.022\n",
      "2   2018-10-01      1       0.022\n",
      "3   2019-01-01      1       0.022\n",
      "4   2019-04-01      1       0.022\n",
      "5   2019-07-01      1       0.022\n",
      "6   2019-10-01      1       0.022\n",
      "7   2020-01-01      1       0.022\n",
      "8   2020-04-01      1       0.022\n",
      "9   2020-07-01      1       0.022\n",
      "10  2020-10-01      1       0.022\n",
      "11  2021-01-01      1       0.022\n"
     ]
    }
   ],
   "source": [
    "sing_col_analysis(0)"
   ]
  },
  {
   "cell_type": "code",
   "execution_count": 6,
   "id": "e47f1f56",
   "metadata": {},
   "outputs": [],
   "source": [
    "# #Althugh not really so pertinent for this data, let's make the groupby function:\n",
    "# def sing_col_analysis(groupby_target, target, col_anal=12):\n",
    "#     #target += 1\n",
    "#     name = df.columns[target]\n",
    "#     print(f\"{name} is a {df.dtypes[target]} that has {len(df[name].unique())} unique and {df[name].isnull().sum()} null values.\")\n",
    "#     #insert line about outliers? Well, could potentially add to the table if relevant.... hmm guess we'll see\n",
    "#     print(df[name].describe())\n",
    "#     curr_col_analysis = df[name].value_counts().reset_index()\n",
    "#     curr_col_analysis['proportion'] = round(df[name].value_counts(normalize=True).reset_index()['proportion'], 3)\n",
    "#     print(curr_col_analysis[:min(col_anal, curr_col_analysis.shape[0])])"
   ]
  },
  {
   "cell_type": "code",
   "execution_count": 7,
   "id": "caf16cbf",
   "metadata": {},
   "outputs": [],
   "source": [
    "# df.groupby('DATE')['RCCCBBALDPD30P'].agg(['median'])"
   ]
  },
  {
   "cell_type": "code",
   "execution_count": null,
   "id": "71902bb3",
   "metadata": {},
   "outputs": [],
   "source": []
  },
  {
   "cell_type": "code",
   "execution_count": null,
   "id": "42988ca5",
   "metadata": {},
   "outputs": [],
   "source": []
  },
  {
   "cell_type": "code",
   "execution_count": 11,
   "id": "9ddc75a4",
   "metadata": {},
   "outputs": [
    {
     "name": "stdout",
     "output_type": "stream",
     "text": [
      "RCCCBBALDPD30P is a float64 that has 41 unique and 0 null values.\n",
      "count    45.000000\n",
      "mean      2.449111\n",
      "std       0.400414\n",
      "min       1.560000\n",
      "25%       2.220000\n",
      "50%       2.470000\n",
      "75%       2.740000\n",
      "max       3.190000\n",
      "Name: RCCCBBALDPD30P, dtype: float64\n",
      "    RCCCBBALDPD30P  count  proportion\n",
      "0             2.25      2       0.044\n",
      "1             2.48      2       0.044\n",
      "2             2.68      2       0.044\n",
      "3             2.43      2       0.044\n",
      "4             3.15      1       0.022\n",
      "5             2.79      1       0.022\n",
      "6             2.93      1       0.022\n",
      "7             2.87      1       0.022\n",
      "8             2.40      1       0.022\n",
      "9             2.08      1       0.022\n",
      "10            2.30      1       0.022\n",
      "11            2.09      1       0.022\n"
     ]
    }
   ],
   "source": [
    "sing_col_analysis(1)"
   ]
  },
  {
   "cell_type": "code",
   "execution_count": null,
   "id": "428683d7",
   "metadata": {},
   "outputs": [],
   "source": [
    "df = pd.read_csv('../../data/non_final/FRED_CC_BALS_90D_DUE.csv')\n",
    "print(df.shape)\n",
    "df.head()"
   ]
  },
  {
   "cell_type": "code",
   "execution_count": null,
   "id": "14defaa6",
   "metadata": {},
   "outputs": [],
   "source": [
    "sing_col_analysis(0)"
   ]
  },
  {
   "cell_type": "code",
   "execution_count": null,
   "id": "facf2d2e",
   "metadata": {},
   "outputs": [],
   "source": [
    "sing_col_analysis(1)"
   ]
  },
  {
   "cell_type": "code",
   "execution_count": null,
   "id": "7bb2d20e",
   "metadata": {},
   "outputs": [],
   "source": [
    "df = pd.read_csv('../../data/non_final/FRED_CC_BALS_QTRLY.csv')\n",
    "print(df.shape)\n",
    "df.head()"
   ]
  },
  {
   "cell_type": "code",
   "execution_count": null,
   "id": "fc6c9215",
   "metadata": {},
   "outputs": [],
   "source": [
    "sing_col_analysis(1)"
   ]
  },
  {
   "cell_type": "code",
   "execution_count": null,
   "id": "f0a0ba68",
   "metadata": {},
   "outputs": [],
   "source": []
  },
  {
   "cell_type": "code",
   "execution_count": null,
   "id": "94b24f89",
   "metadata": {},
   "outputs": [],
   "source": []
  },
  {
   "cell_type": "code",
   "execution_count": null,
   "id": "d69393d4",
   "metadata": {},
   "outputs": [],
   "source": []
  },
  {
   "cell_type": "code",
   "execution_count": null,
   "id": "3efb97bf",
   "metadata": {},
   "outputs": [],
   "source": [
    "df = pd.read_csv('../../data/non_final/FRED_CC_RATE.csv')\n",
    "print(df.shape)\n",
    "df.head()"
   ]
  },
  {
   "cell_type": "code",
   "execution_count": null,
   "id": "b3b1bce8",
   "metadata": {},
   "outputs": [],
   "source": [
    "sing_col_analysis(1)"
   ]
  },
  {
   "cell_type": "code",
   "execution_count": null,
   "id": "a8d20550",
   "metadata": {},
   "outputs": [],
   "source": []
  },
  {
   "cell_type": "code",
   "execution_count": null,
   "id": "1338ac02",
   "metadata": {},
   "outputs": [],
   "source": [
    "df = pd.read_csv('../../data/non_final/FRED_MORTGAGE30US.csv')\n",
    "print(df.shape)\n",
    "df.head()"
   ]
  },
  {
   "cell_type": "code",
   "execution_count": null,
   "id": "d767a8c0",
   "metadata": {},
   "outputs": [],
   "source": [
    "sing_col_analysis(1)"
   ]
  },
  {
   "cell_type": "code",
   "execution_count": null,
   "id": "04ce2ef8",
   "metadata": {},
   "outputs": [],
   "source": []
  },
  {
   "cell_type": "code",
   "execution_count": 12,
   "id": "465a29e7",
   "metadata": {},
   "outputs": [
    {
     "name": "stdout",
     "output_type": "stream",
     "text": [
      "(176, 29)\n"
     ]
    },
    {
     "data": {
      "text/html": [
       "<div>\n",
       "<style scoped>\n",
       "    .dataframe tbody tr th:only-of-type {\n",
       "        vertical-align: middle;\n",
       "    }\n",
       "\n",
       "    .dataframe tbody tr th {\n",
       "        vertical-align: top;\n",
       "    }\n",
       "\n",
       "    .dataframe thead th {\n",
       "        text-align: right;\n",
       "    }\n",
       "</style>\n",
       "<table border=\"1\" class=\"dataframe\">\n",
       "  <thead>\n",
       "    <tr style=\"text-align: right;\">\n",
       "      <th></th>\n",
       "      <th>year</th>\n",
       "      <th>periodName</th>\n",
       "      <th>CPI</th>\n",
       "      <th>CPI_yoy</th>\n",
       "      <th>Unemployment</th>\n",
       "      <th>NF Employment</th>\n",
       "      <th>NF Employment_yoy</th>\n",
       "      <th>ULC</th>\n",
       "      <th>ULC_yoy</th>\n",
       "      <th>Hourly earnings</th>\n",
       "      <th>...</th>\n",
       "      <th>Food</th>\n",
       "      <th>Food_yoy</th>\n",
       "      <th>Gasoline</th>\n",
       "      <th>Gasoline_yoy</th>\n",
       "      <th>Imports</th>\n",
       "      <th>Imports_yoy</th>\n",
       "      <th>New &amp; Used Vehicles</th>\n",
       "      <th>New &amp; Used Vehicles_yoy</th>\n",
       "      <th>All Items Less Food &amp; Shelter</th>\n",
       "      <th>All Items Less Food &amp; Shelter_yoy</th>\n",
       "    </tr>\n",
       "  </thead>\n",
       "  <tbody>\n",
       "    <tr>\n",
       "      <th>0</th>\n",
       "      <td>2023</td>\n",
       "      <td>December</td>\n",
       "      <td>306.746</td>\n",
       "      <td>3.352123</td>\n",
       "      <td>3.7</td>\n",
       "      <td>157347.0</td>\n",
       "      <td>1.980673</td>\n",
       "      <td>NaN</td>\n",
       "      <td>NaN</td>\n",
       "      <td>34.36</td>\n",
       "      <td>...</td>\n",
       "      <td>325.409</td>\n",
       "      <td>2.704844</td>\n",
       "      <td>3.289</td>\n",
       "      <td>-1.996424</td>\n",
       "      <td>139.5</td>\n",
       "      <td>-1.622003</td>\n",
       "      <td>127.596</td>\n",
       "      <td>0.080004</td>\n",
       "      <td>270.725</td>\n",
       "      <td>2.184670</td>\n",
       "    </tr>\n",
       "    <tr>\n",
       "      <th>1</th>\n",
       "      <td>2023</td>\n",
       "      <td>November</td>\n",
       "      <td>307.051</td>\n",
       "      <td>3.137271</td>\n",
       "      <td>3.7</td>\n",
       "      <td>157014.0</td>\n",
       "      <td>1.854627</td>\n",
       "      <td>NaN</td>\n",
       "      <td>NaN</td>\n",
       "      <td>34.23</td>\n",
       "      <td>...</td>\n",
       "      <td>325.172</td>\n",
       "      <td>2.949119</td>\n",
       "      <td>3.500</td>\n",
       "      <td>-9.161692</td>\n",
       "      <td>139.5</td>\n",
       "      <td>-1.483051</td>\n",
       "      <td>127.908</td>\n",
       "      <td>-0.096070</td>\n",
       "      <td>270.202</td>\n",
       "      <td>2.107125</td>\n",
       "    </tr>\n",
       "    <tr>\n",
       "      <th>2</th>\n",
       "      <td>2023</td>\n",
       "      <td>October</td>\n",
       "      <td>307.671</td>\n",
       "      <td>3.241145</td>\n",
       "      <td>3.8</td>\n",
       "      <td>156832.0</td>\n",
       "      <td>1.907120</td>\n",
       "      <td>NaN</td>\n",
       "      <td>NaN</td>\n",
       "      <td>34.10</td>\n",
       "      <td>...</td>\n",
       "      <td>325.731</td>\n",
       "      <td>3.300742</td>\n",
       "      <td>3.782</td>\n",
       "      <td>-5.826693</td>\n",
       "      <td>140.2</td>\n",
       "      <td>-1.751927</td>\n",
       "      <td>126.772</td>\n",
       "      <td>-1.819984</td>\n",
       "      <td>269.779</td>\n",
       "      <td>2.020913</td>\n",
       "    </tr>\n",
       "    <tr>\n",
       "      <th>3</th>\n",
       "      <td>2023</td>\n",
       "      <td>September</td>\n",
       "      <td>307.789</td>\n",
       "      <td>3.699698</td>\n",
       "      <td>3.8</td>\n",
       "      <td>156667.0</td>\n",
       "      <td>2.039261</td>\n",
       "      <td>NaN</td>\n",
       "      <td>NaN</td>\n",
       "      <td>34.01</td>\n",
       "      <td>...</td>\n",
       "      <td>324.704</td>\n",
       "      <td>3.692255</td>\n",
       "      <td>3.988</td>\n",
       "      <td>2.757021</td>\n",
       "      <td>141.0</td>\n",
       "      <td>-1.467505</td>\n",
       "      <td>127.343</td>\n",
       "      <td>-1.915582</td>\n",
       "      <td>269.390</td>\n",
       "      <td>1.930855</td>\n",
       "    </tr>\n",
       "    <tr>\n",
       "      <th>4</th>\n",
       "      <td>2023</td>\n",
       "      <td>August</td>\n",
       "      <td>307.026</td>\n",
       "      <td>3.665112</td>\n",
       "      <td>3.8</td>\n",
       "      <td>156421.0</td>\n",
       "      <td>2.048525</td>\n",
       "      <td>NaN</td>\n",
       "      <td>NaN</td>\n",
       "      <td>33.91</td>\n",
       "      <td>...</td>\n",
       "      <td>324.100</td>\n",
       "      <td>4.254121</td>\n",
       "      <td>3.955</td>\n",
       "      <td>-3.560107</td>\n",
       "      <td>140.3</td>\n",
       "      <td>-2.973721</td>\n",
       "      <td>128.323</td>\n",
       "      <td>-0.803172</td>\n",
       "      <td>269.199</td>\n",
       "      <td>2.318519</td>\n",
       "    </tr>\n",
       "  </tbody>\n",
       "</table>\n",
       "<p>5 rows × 29 columns</p>\n",
       "</div>"
      ],
      "text/plain": [
       "   year periodName      CPI   CPI_yoy  Unemployment  NF Employment  \\\n",
       "0  2023   December  306.746  3.352123           3.7       157347.0   \n",
       "1  2023   November  307.051  3.137271           3.7       157014.0   \n",
       "2  2023    October  307.671  3.241145           3.8       156832.0   \n",
       "3  2023  September  307.789  3.699698           3.8       156667.0   \n",
       "4  2023     August  307.026  3.665112           3.8       156421.0   \n",
       "\n",
       "   NF Employment_yoy  ULC  ULC_yoy  Hourly earnings  ...     Food  Food_yoy  \\\n",
       "0           1.980673  NaN      NaN            34.36  ...  325.409  2.704844   \n",
       "1           1.854627  NaN      NaN            34.23  ...  325.172  2.949119   \n",
       "2           1.907120  NaN      NaN            34.10  ...  325.731  3.300742   \n",
       "3           2.039261  NaN      NaN            34.01  ...  324.704  3.692255   \n",
       "4           2.048525  NaN      NaN            33.91  ...  324.100  4.254121   \n",
       "\n",
       "   Gasoline  Gasoline_yoy  Imports  Imports_yoy  New & Used Vehicles  \\\n",
       "0     3.289     -1.996424    139.5    -1.622003              127.596   \n",
       "1     3.500     -9.161692    139.5    -1.483051              127.908   \n",
       "2     3.782     -5.826693    140.2    -1.751927              126.772   \n",
       "3     3.988      2.757021    141.0    -1.467505              127.343   \n",
       "4     3.955     -3.560107    140.3    -2.973721              128.323   \n",
       "\n",
       "   New & Used Vehicles_yoy  All Items Less Food & Shelter  \\\n",
       "0                 0.080004                        270.725   \n",
       "1                -0.096070                        270.202   \n",
       "2                -1.819984                        269.779   \n",
       "3                -1.915582                        269.390   \n",
       "4                -0.803172                        269.199   \n",
       "\n",
       "   All Items Less Food & Shelter_yoy  \n",
       "0                           2.184670  \n",
       "1                           2.107125  \n",
       "2                           2.020913  \n",
       "3                           1.930855  \n",
       "4                           2.318519  \n",
       "\n",
       "[5 rows x 29 columns]"
      ]
     },
     "execution_count": 12,
     "metadata": {},
     "output_type": "execute_result"
    }
   ],
   "source": [
    "df = pd.read_csv('../../data/non_final/data_BLS_completemarket_i.csv')\n",
    "df = df.drop(['Unnamed: 0'], axis=1)\n",
    "print(df.shape)\n",
    "df.head()"
   ]
  },
  {
   "cell_type": "code",
   "execution_count": null,
   "id": "81fc95fd",
   "metadata": {},
   "outputs": [],
   "source": [
    "sing_col_analysis(0)"
   ]
  },
  {
   "cell_type": "code",
   "execution_count": null,
   "id": "b05afb23",
   "metadata": {},
   "outputs": [],
   "source": [
    "df.groupby('periodName')['Unemployment'].mean()"
   ]
  },
  {
   "cell_type": "code",
   "execution_count": null,
   "id": "d3804960",
   "metadata": {},
   "outputs": [],
   "source": [
    "sing_col_analysis(1)"
   ]
  },
  {
   "cell_type": "code",
   "execution_count": null,
   "id": "06fa52d8",
   "metadata": {},
   "outputs": [],
   "source": [
    "for i in range(2, 10): #Yeah, we gotta be more condensed...\n",
    "    sing_col_analysis(i)\n",
    "    print('~'*26)"
   ]
  },
  {
   "cell_type": "code",
   "execution_count": null,
   "id": "542fbd04",
   "metadata": {},
   "outputs": [],
   "source": [
    "for i in range(10, 20): #Of special note is medical...\n",
    "    sing_col_analysis(i)\n",
    "    print('~'*26)"
   ]
  },
  {
   "cell_type": "code",
   "execution_count": null,
   "id": "f5e997bf",
   "metadata": {},
   "outputs": [],
   "source": [
    "for i in range(20, 29): #Yeah, we gotta be more condensed...\n",
    "    sing_col_analysis(i)\n",
    "    print('~'*26) #Surprisingly that gasoline is so little\n",
    "    #And,interestng the gauge of all items less food an dshelter stuff.... butit makes sense - as the basics take up\n",
    "    #so much of a person's income"
   ]
  },
  {
   "cell_type": "code",
   "execution_count": 13,
   "id": "7925ebed",
   "metadata": {},
   "outputs": [],
   "source": [
    "#Hmm, I think we have a nice singl-column analyzer...\n",
    "#Actually let's update it with outliers:\n",
    "def sing_col_analysis(target, outlier_range=1.5, col_anal=5):\n",
    "    #target += 1\n",
    "    name = df.columns[target]\n",
    "    print(f\"{name} is a {df.dtypes[target]} that has {len(df[name].unique())} unique values.\")\n",
    "    #insert line about outliers? Well, could potentially add to the table if relevant.... hmm guess we'll see\n",
    "    print(df[name].describe())\n",
    "    print(df[name].median() - df[name].std(), df[name].median() + df[name].std())\n",
    "    curr_col_analysis = df[name].value_counts().reset_index()\n",
    "    curr_col_analysis['proportion'] = round(df[name].value_counts(normalize=True).reset_index()['proportion'], 3)\n",
    "    print(curr_col_analysis[:min(col_anal, curr_col_analysis.shape[0])])"
   ]
  },
  {
   "cell_type": "code",
   "execution_count": 14,
   "id": "2ea80ecc",
   "metadata": {},
   "outputs": [
    {
     "name": "stdout",
     "output_type": "stream",
     "text": [
      "Gasoline is a float64 that has 126 unique values.\n",
      "count    132.000000\n",
      "mean       2.930758\n",
      "std        0.677819\n",
      "min        1.767000\n",
      "25%        2.352500\n",
      "50%        2.811500\n",
      "75%        3.486500\n",
      "max        5.058000\n",
      "Name: Gasoline, dtype: float64\n",
      "2.1336810559341552 3.489318944065844\n",
      "   Gasoline  count  proportion\n",
      "0     2.887      2       0.015\n",
      "1     3.735      2       0.015\n",
      "2     2.289      2       0.015\n",
      "3     2.630      2       0.015\n",
      "4     2.832      2       0.015\n"
     ]
    }
   ],
   "source": [
    "sing_col_analysis(21)"
   ]
  },
  {
   "cell_type": "code",
   "execution_count": null,
   "id": "b9504fde",
   "metadata": {},
   "outputs": [],
   "source": [
    "df[~df['Gasoline'].between(2.1, 3.5)]"
   ]
  },
  {
   "cell_type": "code",
   "execution_count": null,
   "id": "fbd5bfee",
   "metadata": {},
   "outputs": [],
   "source": [
    "df.groupby(df.columns[0])[df.columns[2]].mean()"
   ]
  },
  {
   "cell_type": "code",
   "execution_count": null,
   "id": "be027511",
   "metadata": {},
   "outputs": [],
   "source": [
    "for i in range(len(df.columns)):\n",
    "    if df[df.columns[i]].dtype == 'float64' or df[df.columns[i]].dtype == 'int64':\n",
    "        print(f\"{df.columns[0]} vs. {df.columns[i]}, the {i}th indexed column.\")\n",
    "        print('~'*26)\n",
    "        print(df.groupby(df.columns[0])[df.columns[i]].agg(['mean','median']))\n",
    "        print('~'*26)\n",
    "        print('~'*26)\n",
    "        print('~'*26)\n",
    "    else: #ie if object\n",
    "        print(f\"{df.columns[0]} vs. {df.columns[i]}, the {i}th indexed column.\")\n",
    "        print('~'*26)\n",
    "        print(df.groupby(df.columns[0])[df.columns[i]].agg('value_counts'))\n",
    "        print('~'*26)\n",
    "        print('~'*26)\n",
    "        print('~'*26)"
   ]
  },
  {
   "cell_type": "code",
   "execution_count": null,
   "id": "bb718402",
   "metadata": {},
   "outputs": [],
   "source": [
    "# df[df['year']==2013]['ULC'].med()"
   ]
  },
  {
   "cell_type": "code",
   "execution_count": null,
   "id": "1be1ef9f",
   "metadata": {},
   "outputs": [],
   "source": [
    "#For individual ie paired analysis:\n",
    "i = 1\n",
    "print(f\"{df.columns[0]} vs. {df.columns[i]}, the {i}th indexed column.\")\n",
    "if df[df.columns[i]].dtype == 'float64' or df[df.columns[i]].dtype == 'int64':\n",
    "    df.groupby(df.columns[0])[df.columns[i]].agg(['mean','median'])\n",
    "else: #ie if object\n",
    "    df.groupby(df.columns[0])[df.columns[i]].agg('value_counts')"
   ]
  },
  {
   "cell_type": "code",
   "execution_count": null,
   "id": "f0d233d1",
   "metadata": {},
   "outputs": [],
   "source": [
    "df.groupby(df.columns[0])[df.columns[i]].agg('value_counts')"
   ]
  },
  {
   "cell_type": "code",
   "execution_count": null,
   "id": "a60e29ba",
   "metadata": {},
   "outputs": [],
   "source": []
  },
  {
   "cell_type": "code",
   "execution_count": null,
   "id": "26b0150a",
   "metadata": {},
   "outputs": [],
   "source": []
  },
  {
   "cell_type": "code",
   "execution_count": null,
   "id": "1457cefe",
   "metadata": {},
   "outputs": [],
   "source": []
  },
  {
   "cell_type": "code",
   "execution_count": 15,
   "id": "b42097f3",
   "metadata": {},
   "outputs": [],
   "source": [
    "def plotter(df, col_base, col_feature, base_is_time = False):\n",
    "#     if df[col_base].dtypes == 'object':\n",
    "#     #return df[col_base].dtypes, df[col_feature].dtypes\n",
    "#         return df[col_feature].dtypes\n",
    "    #return np.dtype(df[col_base])\n",
    "    if np.dtype(df[col_base]) == 'int64':\n",
    "        if base_is_time == True:\n",
    "            plt.plot(df[col_base], df[col_feature]);\n",
    "        else:\n",
    "            fig, (ax0, ax1) = plt.subplots(nrows = 2, ncols = 1, figsize = (16,9))"
   ]
  },
  {
   "cell_type": "code",
   "execution_count": null,
   "id": "2fa54645",
   "metadata": {},
   "outputs": [],
   "source": []
  },
  {
   "cell_type": "code",
   "execution_count": 16,
   "id": "9a1232cd",
   "metadata": {},
   "outputs": [
    {
     "data": {
      "image/png": "[encoded data removed]",
      "text/plain": [
       "<Figure size 640x480 with 1 Axes>"
      ]
     },
     "metadata": {},
     "output_type": "display_data"
    }
   ],
   "source": [
    "plotter(df, 'year', 'periodName', base_is_time=True)"
   ]
  },
  {
   "cell_type": "code",
   "execution_count": null,
   "id": "b48a093f",
   "metadata": {},
   "outputs": [],
   "source": [
    "plotter(df, 'year', 'periodName')"
   ]
  },
  {
   "cell_type": "code",
   "execution_count": null,
   "id": "28c0482e",
   "metadata": {},
   "outputs": [],
   "source": [
    "plotter(df, 'year', 'periodName')"
   ]
  },
  {
   "cell_type": "code",
   "execution_count": null,
   "id": "ab9ff08b",
   "metadata": {},
   "outputs": [],
   "source": []
  },
  {
   "cell_type": "code",
   "execution_count": null,
   "id": "5efa1143",
   "metadata": {},
   "outputs": [],
   "source": [
    "# df = pd.read_csv('../NYFED_Credit_Report_2023Q3.xlsx').decode('utf8', errors='ignore')\n",
    "# #with open('../NYFED_Credit_Report_2023Q3.xlsx', 'rb') as f:\n",
    "# #    df = f.read()\n",
    "# df"
   ]
  }
 ],
 "metadata": {
  "kernelspec": {
   "display_name": "Python 3 (ipykernel)",
   "language": "python",
   "name": "python3"
  },
  "language_info": {
   "codemirror_mode": {
    "name": "ipython",
    "version": 3
   },
   "file_extension": ".py",
   "mimetype": "text/x-python",
   "name": "python",
   "nbconvert_exporter": "python",
   "pygments_lexer": "ipython3",
   "version": "3.11.5"
  }
 },
 "nbformat": 4,
 "nbformat_minor": 5
}
