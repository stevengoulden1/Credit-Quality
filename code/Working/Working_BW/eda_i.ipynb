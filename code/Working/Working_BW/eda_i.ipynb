{
 "cells": [
  {
   "cell_type": "code",
   "execution_count": 1,
   "id": "b0849a10",
   "metadata": {},
   "outputs": [],
   "source": [
    "#2/2/24: Aww yeah, Steve gave us some excellent data.Let's finally exploe it!\n",
    "\n",
    "import pandas as pd\n",
    "import matplotlib.pyplot as plt\n",
    "import seaborn as sns\n",
    "import numpy as np"
   ]
  },
  {
   "cell_type": "code",
   "execution_count": 2,
   "id": "eefe231e",
   "metadata": {},
   "outputs": [
    {
     "data": {
      "text/plain": [
       "(176, 19)"
      ]
     },
     "execution_count": 2,
     "metadata": {},
     "output_type": "execute_result"
    }
   ],
   "source": [
    "df = pd.read_csv('../../data/non_final/first_data.csv')\n",
    "df = df.drop(columns=['Unnamed: 0'], axis=1)\n",
    "df.shape"
   ]
  },
  {
   "cell_type": "code",
   "execution_count": 3,
   "id": "5e8cbe52",
   "metadata": {},
   "outputs": [
    {
     "data": {
      "text/plain": [
       "Index(['year', 'periodname', 'cpi', 'cpi_yoy', 'unemployment', 'nf_employment',\n",
       "       'nf_employment_yoy', 'ulc', 'ulc_yoy', 'hourly_earnings',\n",
       "       'hourly_earnings_yoy', 'ppi', 'ppi_yoy', 'shelter', 'shelter_yoy',\n",
       "       'energy', 'energy_yoy', 'food', 'food_yoy'],\n",
       "      dtype='object')"
      ]
     },
     "execution_count": 3,
     "metadata": {},
     "output_type": "execute_result"
    }
   ],
   "source": [
    "df.columns = df.columns.str.lower()\n",
    "df.columns = df.columns.str.replace(' ', '_')\n",
    "df.columns"
   ]
  },
  {
   "cell_type": "code",
   "execution_count": 4,
   "id": "f015f61b",
   "metadata": {},
   "outputs": [
    {
     "data": {
      "text/html": [
       "<div>\n",
       "<style scoped>\n",
       "    .dataframe tbody tr th:only-of-type {\n",
       "        vertical-align: middle;\n",
       "    }\n",
       "\n",
       "    .dataframe tbody tr th {\n",
       "        vertical-align: top;\n",
       "    }\n",
       "\n",
       "    .dataframe thead th {\n",
       "        text-align: right;\n",
       "    }\n",
       "</style>\n",
       "<table border=\"1\" class=\"dataframe\">\n",
       "  <thead>\n",
       "    <tr style=\"text-align: right;\">\n",
       "      <th></th>\n",
       "      <th>year</th>\n",
       "      <th>periodname</th>\n",
       "      <th>cpi</th>\n",
       "      <th>cpi_yoy</th>\n",
       "      <th>unemployment</th>\n",
       "      <th>nf_employment</th>\n",
       "      <th>nf_employment_yoy</th>\n",
       "      <th>ulc</th>\n",
       "      <th>ulc_yoy</th>\n",
       "      <th>hourly_earnings</th>\n",
       "      <th>hourly_earnings_yoy</th>\n",
       "      <th>ppi</th>\n",
       "      <th>ppi_yoy</th>\n",
       "      <th>shelter</th>\n",
       "      <th>shelter_yoy</th>\n",
       "      <th>energy</th>\n",
       "      <th>energy_yoy</th>\n",
       "      <th>food</th>\n",
       "      <th>food_yoy</th>\n",
       "    </tr>\n",
       "  </thead>\n",
       "  <tbody>\n",
       "    <tr>\n",
       "      <th>0</th>\n",
       "      <td>2023</td>\n",
       "      <td>December</td>\n",
       "      <td>306.746</td>\n",
       "      <td>3.352123</td>\n",
       "      <td>3.7</td>\n",
       "      <td>157232.0</td>\n",
       "      <td>1.745236</td>\n",
       "      <td>NaN</td>\n",
       "      <td>NaN</td>\n",
       "      <td>34.27</td>\n",
       "      <td>4.100851</td>\n",
       "      <td>141.154</td>\n",
       "      <td>0.982973</td>\n",
       "      <td>390.037</td>\n",
       "      <td>6.174409</td>\n",
       "      <td>269.375</td>\n",
       "      <td>-2.023009</td>\n",
       "      <td>325.409</td>\n",
       "      <td>2.704844</td>\n",
       "    </tr>\n",
       "    <tr>\n",
       "      <th>1</th>\n",
       "      <td>2023</td>\n",
       "      <td>November</td>\n",
       "      <td>307.051</td>\n",
       "      <td>3.137271</td>\n",
       "      <td>3.7</td>\n",
       "      <td>157016.0</td>\n",
       "      <td>1.762845</td>\n",
       "      <td>NaN</td>\n",
       "      <td>NaN</td>\n",
       "      <td>34.12</td>\n",
       "      <td>4.024390</td>\n",
       "      <td>141.877</td>\n",
       "      <td>0.775651</td>\n",
       "      <td>388.266</td>\n",
       "      <td>6.526010</td>\n",
       "      <td>277.029</td>\n",
       "      <td>-5.435684</td>\n",
       "      <td>325.172</td>\n",
       "      <td>2.949119</td>\n",
       "    </tr>\n",
       "    <tr>\n",
       "      <th>2</th>\n",
       "      <td>2023</td>\n",
       "      <td>October</td>\n",
       "      <td>307.671</td>\n",
       "      <td>3.241145</td>\n",
       "      <td>3.8</td>\n",
       "      <td>156843.0</td>\n",
       "      <td>1.842136</td>\n",
       "      <td>NaN</td>\n",
       "      <td>NaN</td>\n",
       "      <td>34.00</td>\n",
       "      <td>4.102878</td>\n",
       "      <td>142.448</td>\n",
       "      <td>1.213585</td>\n",
       "      <td>386.536</td>\n",
       "      <td>6.730727</td>\n",
       "      <td>286.754</td>\n",
       "      <td>-4.529580</td>\n",
       "      <td>325.731</td>\n",
       "      <td>3.300742</td>\n",
       "    </tr>\n",
       "    <tr>\n",
       "      <th>3</th>\n",
       "      <td>2023</td>\n",
       "      <td>September</td>\n",
       "      <td>307.789</td>\n",
       "      <td>3.699698</td>\n",
       "      <td>3.8</td>\n",
       "      <td>156738.0</td>\n",
       "      <td>1.988522</td>\n",
       "      <td>NaN</td>\n",
       "      <td>NaN</td>\n",
       "      <td>33.91</td>\n",
       "      <td>4.242238</td>\n",
       "      <td>142.898</td>\n",
       "      <td>2.021904</td>\n",
       "      <td>385.259</td>\n",
       "      <td>7.145857</td>\n",
       "      <td>296.004</td>\n",
       "      <td>-0.450322</td>\n",
       "      <td>324.704</td>\n",
       "      <td>3.692255</td>\n",
       "    </tr>\n",
       "    <tr>\n",
       "      <th>4</th>\n",
       "      <td>2023</td>\n",
       "      <td>August</td>\n",
       "      <td>307.026</td>\n",
       "      <td>3.665112</td>\n",
       "      <td>3.8</td>\n",
       "      <td>156476.0</td>\n",
       "      <td>2.050453</td>\n",
       "      <td>NaN</td>\n",
       "      <td>NaN</td>\n",
       "      <td>33.82</td>\n",
       "      <td>4.286155</td>\n",
       "      <td>142.641</td>\n",
       "      <td>1.911907</td>\n",
       "      <td>382.782</td>\n",
       "      <td>7.248886</td>\n",
       "      <td>294.328</td>\n",
       "      <td>-3.616573</td>\n",
       "      <td>324.100</td>\n",
       "      <td>4.254121</td>\n",
       "    </tr>\n",
       "  </tbody>\n",
       "</table>\n",
       "</div>"
      ],
      "text/plain": [
       "   year periodname      cpi   cpi_yoy  unemployment  nf_employment  \\\n",
       "0  2023   December  306.746  3.352123           3.7       157232.0   \n",
       "1  2023   November  307.051  3.137271           3.7       157016.0   \n",
       "2  2023    October  307.671  3.241145           3.8       156843.0   \n",
       "3  2023  September  307.789  3.699698           3.8       156738.0   \n",
       "4  2023     August  307.026  3.665112           3.8       156476.0   \n",
       "\n",
       "   nf_employment_yoy  ulc  ulc_yoy  hourly_earnings  hourly_earnings_yoy  \\\n",
       "0           1.745236  NaN      NaN            34.27             4.100851   \n",
       "1           1.762845  NaN      NaN            34.12             4.024390   \n",
       "2           1.842136  NaN      NaN            34.00             4.102878   \n",
       "3           1.988522  NaN      NaN            33.91             4.242238   \n",
       "4           2.050453  NaN      NaN            33.82             4.286155   \n",
       "\n",
       "       ppi   ppi_yoy  shelter  shelter_yoy   energy  energy_yoy     food  \\\n",
       "0  141.154  0.982973  390.037     6.174409  269.375   -2.023009  325.409   \n",
       "1  141.877  0.775651  388.266     6.526010  277.029   -5.435684  325.172   \n",
       "2  142.448  1.213585  386.536     6.730727  286.754   -4.529580  325.731   \n",
       "3  142.898  2.021904  385.259     7.145857  296.004   -0.450322  324.704   \n",
       "4  142.641  1.911907  382.782     7.248886  294.328   -3.616573  324.100   \n",
       "\n",
       "   food_yoy  \n",
       "0  2.704844  \n",
       "1  2.949119  \n",
       "2  3.300742  \n",
       "3  3.692255  \n",
       "4  4.254121  "
      ]
     },
     "execution_count": 4,
     "metadata": {},
     "output_type": "execute_result"
    }
   ],
   "source": [
    "df.head()"
   ]
  },
  {
   "cell_type": "code",
   "execution_count": 5,
   "id": "42f9a364",
   "metadata": {},
   "outputs": [
    {
     "data": {
      "text/plain": [
       "year                     0\n",
       "periodname               0\n",
       "cpi                     44\n",
       "cpi_yoy                 56\n",
       "unemployment            44\n",
       "nf_employment           44\n",
       "nf_employment_yoy       56\n",
       "ulc                    132\n",
       "ulc_yoy                144\n",
       "hourly_earnings         44\n",
       "hourly_earnings_yoy     56\n",
       "ppi                     44\n",
       "ppi_yoy                 56\n",
       "shelter                 44\n",
       "shelter_yoy             56\n",
       "energy                  44\n",
       "energy_yoy              56\n",
       "food                    44\n",
       "food_yoy                56\n",
       "dtype: int64"
      ]
     },
     "execution_count": 5,
     "metadata": {},
     "output_type": "execute_result"
    }
   ],
   "source": [
    "df.isnull().sum() #Any multiple of 44 is likely via quarterly things that weren't relevant/didn't for whatever reason sum\n",
    "#up those guys."
   ]
  },
  {
   "cell_type": "code",
   "execution_count": 7,
   "id": "7e8fb3bb",
   "metadata": {},
   "outputs": [],
   "source": [
    "# def outlier_gauger(df, col_name, thrs):\n",
    "    "
   ]
  },
  {
   "cell_type": "code",
   "execution_count": null,
   "id": "8823bfa3",
   "metadata": {},
   "outputs": [],
   "source": [
    "#We'll start with each feature/whatever:\n",
    "target = -1\n",
    "\n",
    "target += 1\n",
    "name = df.columns[target]\n",
    "print(f\"{name} is a {df.dtypes[target]}\")\n",
    "#insert line about outliers? Well, could potentially add to the table if relevant.... hmm guess we'll see\n",
    "print(df[name].describe())\n",
    "curr_col_analysis = df[name].value_counts().reset_index()\n",
    "curr_col_analysis['proportion'] = round(df[name].value_counts(normalize=True).reset_index()['proportion'], 3)\n",
    "curr_col_analysis\n",
    "\n",
    "#Anyways, bottom line interesting how each year is exactly 16... guess this was what Aaran was talking about iwth quarterly\n",
    "#and monthly division, see below."
   ]
  },
  {
   "cell_type": "code",
   "execution_count": null,
   "id": "cb6e29f7",
   "metadata": {},
   "outputs": [],
   "source": [
    "df[df['year'] == 2023]"
   ]
  },
  {
   "cell_type": "code",
   "execution_count": null,
   "id": "5be845d0",
   "metadata": {},
   "outputs": [],
   "source": [
    "#Anyways,back to our principal focus:\n",
    "\n",
    "target += 1\n",
    "name = df.columns[target]\n",
    "print(f\"{name} is a {df.dtypes[target]}\")\n",
    "print(df[name].describe())\n",
    "curr_col_analysis = df[name].value_counts().reset_index()\n",
    "curr_col_analysis['proportion'] = round(df[name].value_counts(normalize=True).reset_index()['proportion'], 3)\n",
    "curr_col_analysis\n",
    "\n",
    "#Will comment when I see something of interest.Won't bother to comment if eveyrthig is 'smooth'."
   ]
  },
  {
   "cell_type": "code",
   "execution_count": null,
   "id": "0504bc17",
   "metadata": {},
   "outputs": [],
   "source": [
    "target += 1\n",
    "name = df.columns[target]\n",
    "print(f\"{name} is a {df.dtypes[target]}\")\n",
    "print(df[name].describe())\n",
    "curr_col_analysis = df[name].value_counts().reset_index()\n",
    "curr_col_analysis['proportion'] = round(df[name].value_counts(normalize=True).reset_index()['proportion'], 3)\n",
    "curr_col_analysis\n",
    "\n",
    "#Hmm, unsure of the values, but bottom line somehwat normally distributed seemingly; noooooo so much more on the right...\n",
    "#and even per the mean/median: slightly skewed to the left,but thot right-end upper tail..."
   ]
  },
  {
   "cell_type": "code",
   "execution_count": null,
   "id": "85aaffc0",
   "metadata": {},
   "outputs": [],
   "source": [
    "target += 1\n",
    "name = df.columns[target]\n",
    "print(f\"{name} is a {df.dtypes[target]}\")\n",
    "print(df[name].describe())\n",
    "curr_col_analysis = df[name].value_counts().reset_index()\n",
    "curr_col_analysis['proportion'] = round(df[name].value_counts(normalize=True).reset_index()['proportion'], 3)\n",
    "curr_col_analysis\n",
    "\n",
    "#Unsure if this is like from last years or the previous month,but regardless..."
   ]
  },
  {
   "cell_type": "code",
   "execution_count": null,
   "id": "376f878a",
   "metadata": {},
   "outputs": [],
   "source": [
    "target += 1\n",
    "name = df.columns[target]\n",
    "print(f\"{name} is a {df.dtypes[target]}\")\n",
    "print(df[name].describe())\n",
    "curr_col_analysis = df[name].value_counts().reset_index()\n",
    "curr_col_analysis['proportion'] = round(df[name].value_counts(normalize=True).reset_index()['proportion'], 3)\n",
    "curr_col_analysis\n",
    "#Another skew to the left."
   ]
  },
  {
   "cell_type": "code",
   "execution_count": null,
   "id": "87179f70",
   "metadata": {},
   "outputs": [],
   "source": [
    "target += 1\n",
    "name = df.columns[target]\n",
    "print(f\"{name} is a {df.dtypes[target]}\")\n",
    "print(df[name].describe())\n",
    "curr_col_analysis = df[name].value_counts().reset_index()\n",
    "curr_col_analysis['proportion'] = round(df[name].value_counts(normalize=True).reset_index()['proportion'], 3)\n",
    "curr_col_analysis[:10]"
   ]
  },
  {
   "cell_type": "code",
   "execution_count": null,
   "id": "23d6e532",
   "metadata": {},
   "outputs": [],
   "source": [
    "target += 1\n",
    "name = df.columns[target]\n",
    "print(f\"{name} is a {df.dtypes[target]}, the {target} position column in our dataframe.\")\n",
    "print(df[name].describe())\n",
    "curr_col_analysis = df[name].value_counts().reset_index()\n",
    "curr_col_analysis['proportion'] = round(df[name].value_counts(normalize=True).reset_index()['proportion'], 3)\n",
    "curr_col_analysis[:10]"
   ]
  },
  {
   "cell_type": "code",
   "execution_count": null,
   "id": "70f03c87",
   "metadata": {},
   "outputs": [],
   "source": [
    "target += 1\n",
    "name = df.columns[target]\n",
    "print(f\"{name} is a {df.dtypes[target]}, the {target} position column in our dataframe.\")\n",
    "print(df[name].describe())\n",
    "curr_col_analysis = df[name].value_counts().reset_index()\n",
    "curr_col_analysis['proportion'] = round(df[name].value_counts(normalize=True).reset_index()['proportion'], 3)\n",
    "curr_col_analysis[:10]\n",
    "#Hmm, now this is particuparly interesting to me - ulc.Especially when wehave at least half of whom negative [which I thought]\n",
    "#wouldnt' be possible given it's a fraction"
   ]
  },
  {
   "cell_type": "code",
   "execution_count": null,
   "id": "16de259a",
   "metadata": {},
   "outputs": [],
   "source": [
    "target += 1\n",
    "name = df.columns[target]\n",
    "print(f\"{name} is a {df.dtypes[target]}, the {target} position column in our dataframe.\")\n",
    "print(df[name].describe())\n",
    "curr_col_analysis = df[name].value_counts().reset_index()\n",
    "curr_col_analysis['proportion'] = round(df[name].value_counts(normalize=True).reset_index()['proportion'], 3)\n",
    "curr_col_analysis[:10] #Wow, what a proportion"
   ]
  },
  {
   "cell_type": "code",
   "execution_count": null,
   "id": "2bc411b9",
   "metadata": {},
   "outputs": [],
   "source": [
    "target += 1\n",
    "name = df.columns[target]\n",
    "print(f\"{name} is a {df.dtypes[target]}, the {target} position column in our dataframe.\")\n",
    "print(df[name].describe())\n",
    "curr_col_analysis = df[name].value_counts().reset_index()\n",
    "curr_col_analysis['proportion'] = round(df[name].value_counts(normalize=True).reset_index()['proportion'], 3)\n",
    "curr_col_analysis[:10]#Oh wow, about about eveningly distrbuted.... but odd - how is the min and max so hihg/low???"
   ]
  },
  {
   "cell_type": "code",
   "execution_count": null,
   "id": "28a92959",
   "metadata": {},
   "outputs": [],
   "source": [
    "target += 1\n",
    "name = df.columns[target]\n",
    "print(f\"{name} is a {df.dtypes[target]}, the {target} position column in our dataframe.\")\n",
    "print(round(df[name].describe(), 3))\n",
    "curr_col_analysis = df[name].value_counts().reset_index()\n",
    "curr_col_analysis['proportion'] = round(df[name].value_counts(normalize=True).reset_index()['proportion'], 3)\n",
    "curr_col_analysis[:10]"
   ]
  },
  {
   "cell_type": "code",
   "execution_count": null,
   "id": "35a0fdb5",
   "metadata": {},
   "outputs": [],
   "source": [
    "target += 1\n",
    "name = df.columns[target]\n",
    "print(f\"{name} is a {df.dtypes[target]}, the {target} position column in our dataframe.\")\n",
    "print(round(df[name].describe(), 3))\n",
    "curr_col_analysis = df[name].value_counts().reset_index()\n",
    "curr_col_analysis['proportion'] = round(df[name].value_counts(normalize=True).reset_index()['proportion'], 3)\n",
    "curr_col_analysis[:10]#A bit to the left,but wow... a std of just 11\n",
    "#recall earlier with the cpi:The various pis were about double, but that includes the standard deviation....\n",
    "#At least I find that very interesting"
   ]
  },
  {
   "cell_type": "code",
   "execution_count": null,
   "id": "2c00807d",
   "metadata": {},
   "outputs": [],
   "source": [
    "target += 1\n",
    "name = df.columns[target]\n",
    "print(f\"{name} is a {df.dtypes[target]}, the {target} position column in our dataframe.\")\n",
    "print(round(df[name].describe(), 3))\n",
    "curr_col_analysis = df[name].value_counts().reset_index()\n",
    "curr_col_analysis['proportion'] = round(df[name].value_counts(normalize=True).reset_index()['proportion'], 3)\n",
    "curr_col_analysis[:10]"
   ]
  },
  {
   "cell_type": "code",
   "execution_count": null,
   "id": "b78a0124",
   "metadata": {},
   "outputs": [],
   "source": [
    "target += 1\n",
    "name = df.columns[target]\n",
    "print(f\"{name} is a {df.dtypes[target]}, the {target} position column in our dataframe.\")\n",
    "print(round(df[name].describe(), 3))\n",
    "curr_col_analysis = df[name].value_counts().reset_index()\n",
    "curr_col_analysis['proportion'] = round(df[name].value_counts(normalize=True).reset_index()['proportion'], 3)\n",
    "curr_col_analysis[:10]\n",
    "#Seemingly an average of some kind of house costs... odd."
   ]
  },
  {
   "cell_type": "code",
   "execution_count": null,
   "id": "535cd60c",
   "metadata": {},
   "outputs": [],
   "source": [
    "target += 1\n",
    "name = df.columns[target]\n",
    "print(f\"{name} is a {df.dtypes[target]}, the {target} position column in our dataframe.\")\n",
    "print(round(df[name].describe(), 3))\n",
    "curr_col_analysis = df[name].value_counts().reset_index()\n",
    "curr_col_analysis['proportion'] = round(df[name].value_counts(normalize=True).reset_index()['proportion'], 3)\n",
    "curr_col_analysis[:10]"
   ]
  },
  {
   "cell_type": "code",
   "execution_count": null,
   "id": "84f6d756",
   "metadata": {},
   "outputs": [],
   "source": [
    "target += 1\n",
    "name = df.columns[target]\n",
    "print(f\"{name} is a {df.dtypes[target]}, the {target} position column in our dataframe.\")\n",
    "print(round(df[name].describe(), 3))\n",
    "curr_col_analysis = df[name].value_counts().reset_index()\n",
    "curr_col_analysis['proportion'] = round(df[name].value_counts(normalize=True).reset_index()['proportion'], 3)\n",
    "curr_col_analysis[:10]"
   ]
  },
  {
   "cell_type": "code",
   "execution_count": null,
   "id": "974d5afc",
   "metadata": {},
   "outputs": [],
   "source": [
    "target += 1\n",
    "name = df.columns[target]\n",
    "print(f\"{name} is a {df.dtypes[target]}, the {target} position column in our dataframe.\")\n",
    "print(round(df[name].describe(), 3))\n",
    "curr_col_analysis = df[name].value_counts().reset_index()\n",
    "curr_col_analysis['proportion'] = round(df[name].value_counts(normalize=True).reset_index()['proportion'], 3)\n",
    "curr_col_analysis[:10]"
   ]
  },
  {
   "cell_type": "code",
   "execution_count": null,
   "id": "25dffec0",
   "metadata": {},
   "outputs": [],
   "source": [
    "target += 1\n",
    "name = df.columns[target]\n",
    "print(f\"{name} is a {df.dtypes[target]}, the {target} position column in our dataframe.\")\n",
    "print(round(df[name].describe(), 3))\n",
    "curr_col_analysis = df[name].value_counts().reset_index()\n",
    "curr_col_analysis['proportion'] = round(df[name].value_counts(normalize=True).reset_index()['proportion'], 3)\n",
    "curr_col_analysis[:10]"
   ]
  },
  {
   "cell_type": "code",
   "execution_count": null,
   "id": "18784005",
   "metadata": {},
   "outputs": [],
   "source": [
    "target += 1\n",
    "name = df.columns[target]\n",
    "print(f\"{name} is a {df.dtypes[target]}, the {target} position column in our dataframe.\")\n",
    "print(round(df[name].describe(), 3))\n",
    "curr_col_analysis = df[name].value_counts().reset_index()\n",
    "curr_col_analysis['proportion'] = round(df[name].value_counts(normalize=True).reset_index()['proportion'], 3)\n",
    "curr_col_analysis[:10]"
   ]
  },
  {
   "cell_type": "code",
   "execution_count": null,
   "id": "650974d1",
   "metadata": {},
   "outputs": [],
   "source": [
    "#Hmm,that's a nice start. Let's end with correlation for now:\n",
    "plt.figure(figsize=(16, 16));\n",
    "corr = df.corr(numeric_only=True)\n",
    "mask = np.zeros_like(corr)\n",
    "mask[np.triu_indices_from(mask)] = True\n",
    "sns.heatmap(corr, mask = mask, annot=True, vmin = -1, vmax = 1, cmap='crest');"
   ]
  },
  {
   "cell_type": "code",
   "execution_count": null,
   "id": "2567e479",
   "metadata": {},
   "outputs": [],
   "source": [
    "#We'll start with year: quite strongly correlated with food, sheleter, ppi, hourly earnings and cpi\n",
    "\n",
    "#nteresting how energy  is pretty weak. ulic even weaker. and unemployement is actually somwhat negatively.\n",
    "\n",
    "#On the supervised ends, focusing on bros of interest: greater, abs, than .8; and within .2:\n",
    "#Hourly eearnings is almost soooo tied to cpi..... and so to with ppi.... and food.... fod being the most - dcenwt iwth the rest\n",
    "#oh and shelter.... energy is still the same more or less... \n",
    "\n",
    "#Nf unemployement .8 and with unemployment...\n",
    "\n",
    "#so too, unexpectantly by now, hourly earnings with shelter, ppi, ppi and shelter, ppi and food.... ie all these guys\n",
    "\n",
    "#So, we see this cluster of: cpi, ppi, hourly wages, food, and shelter, and of course year.\n",
    "\n",
    "#Unemployment remains interesting...knda makes since as everybody needs to get so if it increases people gotta dop\n",
    "#their prices...\n",
    "\n",
    "#And, re. energy - somehwat affected, but a lot more consistent..."
   ]
  },
  {
   "cell_type": "code",
   "execution_count": null,
   "id": "1156076c",
   "metadata": {},
   "outputs": [],
   "source": []
  },
  {
   "cell_type": "code",
   "execution_count": null,
   "id": "9bc75c0f",
   "metadata": {},
   "outputs": [],
   "source": [
    "# for i in range(len(df[cname].value_counts())):\n",
    "#     print(f\"{cname}'s {df[cname].sort_values().unique()[i]} has a mean of {df[df[cname] == df[cname].sort_values().unique()[i]]['SalePrice'].mean()} and a count of {df[df[cname] == df[cname].sort_values().unique()[i]]['SalePrice'].count()}.\")"
   ]
  },
  {
   "cell_type": "code",
   "execution_count": null,
   "id": "9447882d",
   "metadata": {},
   "outputs": [],
   "source": []
  },
  {
   "cell_type": "code",
   "execution_count": null,
   "id": "27706ec9",
   "metadata": {},
   "outputs": [],
   "source": []
  }
 ],
 "metadata": {
  "kernelspec": {
   "display_name": "Python 3 (ipykernel)",
   "language": "python",
   "name": "python3"
  },
  "language_info": {
   "codemirror_mode": {
    "name": "ipython",
    "version": 3
   },
   "file_extension": ".py",
   "mimetype": "text/x-python",
   "name": "python",
   "nbconvert_exporter": "python",
   "pygments_lexer": "ipython3",
   "version": "3.11.5"
  }
 },
 "nbformat": 4,
 "nbformat_minor": 5
}
